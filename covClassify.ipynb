{
 "metadata": {
  "language_info": {
   "codemirror_mode": {
    "name": "ipython",
    "version": 3
   },
   "file_extension": ".py",
   "mimetype": "text/x-python",
   "name": "python",
   "nbconvert_exporter": "python",
   "pygments_lexer": "ipython3",
   "version": "3.8.5"
  },
  "orig_nbformat": 2,
  "kernelspec": {
   "name": "python385jvsc74a57bd00d7a72164fcd029cb22c0f92254d47c1b7a75054e629f435593758c10a506c44",
   "display_name": "Python 3.8.5 64-bit (conda)"
  },
  "metadata": {
   "interpreter": {
    "hash": "0231d0c3b3a3a69b43f4d24340a7b64d9eaf6af589807fb42de1dce5a184bae9"
   }
  }
 },
 "nbformat": 4,
 "nbformat_minor": 2,
 "cells": [
  {
   "cell_type": "code",
   "execution_count": 2,
   "metadata": {},
   "outputs": [
    {
     "output_type": "stream",
     "name": "stderr",
     "text": [
      "[nltk_data] Downloading package stopwords to\n[nltk_data]     C:\\Users\\2020\\AppData\\Roaming\\nltk_data...\n[nltk_data]   Package stopwords is already up-to-date!\n"
     ]
    }
   ],
   "source": [
    "from sklearn.model_selection import train_test_split\n",
    "from sklearn.metrics import accuracy_score\n",
    "from sklearn.feature_extraction.text import CountVectorizer\n",
    "from xgboost import XGBClassifier\n",
    "import pandas as pd\n",
    "import nltk\n",
    "from nltk.corpus import stopwords\n",
    "import re\n",
    "from sklearn.metrics import classification_report, confusion_matrix,accuracy_score\n",
    "import pickle\n",
    "nltk.download('stopwords')\n",
    "pkl_filename = \"theModel.pkl\" # name for saving and loading model\n",
    "data = pd.read_csv('tweet.csv')\n",
    "X, y= data['Tweet'], data['class_label']"
   ]
  },
  {
   "cell_type": "code",
   "execution_count": 3,
   "metadata": {},
   "outputs": [],
   "source": [
    "#text preprocessing\n",
    "documents = []\n",
    "from nltk.stem import WordNetLemmatizer\n",
    "stemmer = WordNetLemmatizer()\n",
    "for sen in range(0, len(X)):\n",
    "    document = re.sub(r'\\W', ' ', str(X[sen]))\n",
    "    document = re.sub(r'\\s+[a-zA-Z]\\s+', ' ', document)\n",
    "    document = re.sub(r'\\^[a-zA-Z]\\s+', ' ', document) \n",
    "    document = re.sub(r'\\s+', ' ', document, flags=re.I)\n",
    "    document = re.sub(r'^b\\s+', '', document)\n",
    "    document = document.lower()\n",
    "    # Lemmatization\n",
    "    document = document.split()\n",
    "    document = [stemmer.lemmatize(word) for word in document]\n",
    "    document = ' '.join(document)\n",
    "    \n",
    "    documents.append(document)"
   ]
  },
  {
   "cell_type": "code",
   "execution_count": 32,
   "metadata": {},
   "outputs": [
    {
     "output_type": "execute_result",
     "data": {
      "text/plain": [
       "      Unnamed: 0            Id                  User  \\\n",
       "1265        1265  5.783936e+08   I AM TAKING CHARGE™   \n",
       "1087        1087  1.380000e+18   DogeOfTheNorthwoods   \n",
       "375          375  3.166948e+09        Fernando Ortíz   \n",
       "618          618  1.210000e+18  Christopher Bartlett   \n",
       "1383        1383  1.545869e+09     Prasad A. Bedekar   \n",
       "\n",
       "                                                  Tweet class_label  \n",
       "1265  Empowering Life Transformation for YOU: https:...    NEGATIVE  \n",
       "1087  @Brandyski2121 #BidensAmerica  Do they need pr...    NEGATIVE  \n",
       "375   ¡Together And United, VS This Pandemic Of The ...    NEGATIVE  \n",
       "618   Research has been used to #shape how #dentistr...    NEGATIVE  \n",
       "1383  Be your own Protector....\\nAn Initiative by Sh...    NEGATIVE  "
      ],
      "text/html": "<div>\n<style scoped>\n    .dataframe tbody tr th:only-of-type {\n        vertical-align: middle;\n    }\n\n    .dataframe tbody tr th {\n        vertical-align: top;\n    }\n\n    .dataframe thead th {\n        text-align: right;\n    }\n</style>\n<table border=\"1\" class=\"dataframe\">\n  <thead>\n    <tr style=\"text-align: right;\">\n      <th></th>\n      <th>Unnamed: 0</th>\n      <th>Id</th>\n      <th>User</th>\n      <th>Tweet</th>\n      <th>class_label</th>\n    </tr>\n  </thead>\n  <tbody>\n    <tr>\n      <th>1265</th>\n      <td>1265</td>\n      <td>5.783936e+08</td>\n      <td>I AM TAKING CHARGE™</td>\n      <td>Empowering Life Transformation for YOU: https:...</td>\n      <td>NEGATIVE</td>\n    </tr>\n    <tr>\n      <th>1087</th>\n      <td>1087</td>\n      <td>1.380000e+18</td>\n      <td>DogeOfTheNorthwoods</td>\n      <td>@Brandyski2121 #BidensAmerica  Do they need pr...</td>\n      <td>NEGATIVE</td>\n    </tr>\n    <tr>\n      <th>375</th>\n      <td>375</td>\n      <td>3.166948e+09</td>\n      <td>Fernando Ortíz</td>\n      <td>¡Together And United, VS This Pandemic Of The ...</td>\n      <td>NEGATIVE</td>\n    </tr>\n    <tr>\n      <th>618</th>\n      <td>618</td>\n      <td>1.210000e+18</td>\n      <td>Christopher Bartlett</td>\n      <td>Research has been used to #shape how #dentistr...</td>\n      <td>NEGATIVE</td>\n    </tr>\n    <tr>\n      <th>1383</th>\n      <td>1383</td>\n      <td>1.545869e+09</td>\n      <td>Prasad A. Bedekar</td>\n      <td>Be your own Protector....\\nAn Initiative by Sh...</td>\n      <td>NEGATIVE</td>\n    </tr>\n  </tbody>\n</table>\n</div>"
     },
     "metadata": {},
     "execution_count": 32
    }
   ],
   "source": [
    "#Removeing stopword\n",
    "stw = stopwords.words('english')\n",
    "addi = (\"&amp\",\"arc\",'https','co','t','amp','s')\n",
    "stw.append(addi)\n",
    "#Do Count vectorizer\n",
    "from sklearn.feature_extraction.text import CountVectorizer\n",
    "vectorizer = CountVectorizer(max_features=1200, min_df=9, max_df=0.8, stop_words=stw)\n",
    "X = vectorizer.fit_transform(documents).toarray()\n",
    "y = data['class_label']\n",
    "X_train, X_test, y_train, y_test = train_test_split(X, y, test_size=0.2, random_state=0)\n",
    "data.sample(5)"
   ]
  },
  {
   "cell_type": "code",
   "execution_count": 28,
   "metadata": {},
   "outputs": [
    {
     "output_type": "stream",
     "name": "stderr",
     "text": [
      "C:\\Users\\2020\\anaconda3\\lib\\site-packages\\xgboost\\sklearn.py:888: UserWarning: The use of label encoder in XGBClassifier is deprecated and will be removed in a future release. To remove this warning, do the following: 1) Pass option use_label_encoder=False when constructing XGBClassifier object; and 2) Encode your labels (y) as integers starting with 0, i.e. 0, 1, 2, ..., [num_class - 1].\n",
      "  warnings.warn(label_encoder_deprecation_msg, UserWarning)\n",
      "[22:45:57] WARNING: C:/Users/Administrator/workspace/xgboost-win64_release_1.3.0/src/learner.cc:1061: Starting in XGBoost 1.3.0, the default evaluation metric used with the objective 'binary:logistic' was changed from 'error' to 'logloss'. Explicitly set eval_metric if you'd like to restore the old behavior.\n",
      "              precision    recall  f1-score   support\n",
      "\n",
      "    NEGATIVE       0.73      0.79      0.76       135\n",
      "    POSITIVE       0.64      0.56      0.60        90\n",
      "\n",
      "    accuracy                           0.70       225\n",
      "   macro avg       0.68      0.67      0.68       225\n",
      "weighted avg       0.69      0.70      0.69       225\n",
      "\n",
      "[[107  28]\n",
      " [ 40  50]]\n",
      "Accuracy: 69.78%\n"
     ]
    }
   ],
   "source": [
    "# XGBoost model\n",
    "#model = XGBClassifier(eta=0.5,gamma=0.14,max_depth=7, random_state=42)\n",
    "model = XGBClassifier(eta=0.5,gamma=0.35,max_depth=7, random_state=42)\n",
    "model.fit(X_train, y_train)\n",
    "# make predictions for test data\n",
    "predictt = model.predict(X_test)\n",
    "print(classification_report(y_test ,predictt))\n",
    "print(confusion_matrix(y_test, predictt))\n",
    "accuracy = accuracy_score(y_test, predictt)\n",
    "print(\"Accuracy: %.2f%%\" % (accuracy * 100.0))"
   ]
  },
  {
   "cell_type": "code",
   "execution_count": 29,
   "metadata": {},
   "outputs": [
    {
     "output_type": "stream",
     "name": "stdout",
     "text": [
      "              precision    recall  f1-score   support\n\n    NEGATIVE       0.72      0.82      0.77       135\n    POSITIVE       0.66      0.52      0.58        90\n\n    accuracy                           0.70       225\n   macro avg       0.69      0.67      0.68       225\nweighted avg       0.70      0.70      0.69       225\n\nConfusion Matrix: \n [[111  24]\n [ 43  47]]\n\nAccuracy:  70.22222222222221\n"
     ]
    }
   ],
   "source": [
    "#Multinomial\n",
    "from sklearn.naive_bayes import MultinomialNB\n",
    "model = MultinomialNB(alpha=0.3)\n",
    "model.fit(X_train, y_train)\n",
    "pred = model.predict(X_test)\n",
    "print(classification_report(y_test ,pred ))\n",
    "print('Confusion Matrix: \\n', confusion_matrix(y_test,pred))\n",
    "print()\n",
    "print('Accuracy: ', accuracy_score(y_test,pred) * 100.0)"
   ]
  },
  {
   "cell_type": "code",
   "execution_count": 30,
   "metadata": {},
   "outputs": [
    {
     "output_type": "stream",
     "name": "stdout",
     "text": [
      "[[121  14]\n [ 47  43]]\n              precision    recall  f1-score   support\n\n    NEGATIVE       0.72      0.90      0.80       135\n    POSITIVE       0.75      0.48      0.59        90\n\n    accuracy                           0.73       225\n   macro avg       0.74      0.69      0.69       225\nweighted avg       0.73      0.73      0.71       225\n\nAccuracy:  0.7288888888888889\n"
     ]
    }
   ],
   "source": [
    "#random forest\n",
    "from sklearn.ensemble import RandomForestClassifier\n",
    "#n_estimators=400, random_state=42,max_depth=70\n",
    "#model = RandomForestClassifier(n_estimators=400, random_state=42,max_depth=40,min_samples_split=5)\n",
    "model = RandomForestClassifier(n_estimators=400, random_state=42,max_depth=40,min_samples_split=7)\n",
    "model.fit(X_train, y_train) \n",
    "y_pred = model.predict(X_test)\n",
    "\n",
    "print(confusion_matrix(y_test,y_pred))\n",
    "print(classification_report(y_test,y_pred))\n",
    "print('Accuracy: ', accuracy_score(y_test,y_pred))"
   ]
  },
  {
   "cell_type": "code",
   "execution_count": 6,
   "metadata": {},
   "outputs": [],
   "source": [
    "#Save model\n",
    "with open(pkl_filename, 'wb') as file:\n",
    "    pickle.dump(model, file)"
   ]
  },
  {
   "cell_type": "code",
   "execution_count": 8,
   "metadata": {},
   "outputs": [],
   "source": [
    "#Load model\n",
    "with open(pkl_filename, 'rb') as file:\n",
    "    model = pickle.load(file)"
   ]
  },
  {
   "cell_type": "code",
   "execution_count": 9,
   "metadata": {},
   "outputs": [],
   "source": [
    "#Text processing for gettin input\n",
    "data = pd.read_csv('tweet.csv')\n",
    "X, y= data['Tweet'], data['class_label']\n",
    "documents = []\n",
    "from nltk.stem import WordNetLemmatizer\n",
    "stemmer = WordNetLemmatizer()\n",
    "for sen in range(0, len(X)):\n",
    "    document = re.sub(r'\\W', ' ', str(X[sen]))\n",
    "    document = re.sub(r'\\s+[a-zA-Z]\\s+', ' ', document)\n",
    "    document = re.sub(r'\\^[a-zA-Z]\\s+', ' ', document) \n",
    "    document = re.sub(r'\\s+', ' ', document, flags=re.I)\n",
    "    document = re.sub(r'^b\\s+', '', document)\n",
    "    document = document.lower()\n",
    "    document = document.split()\n",
    "    document = [stemmer.lemmatize(word) for word in document]\n",
    "    document = ' '.join(document)\n",
    "    documents.append(document)\n",
    "stw = stopwords.words('english')\n",
    "addi = (\"&amp\",\"arc\",'https','co','t','amp','s')\n",
    "stw.append(addi)\n",
    "vectorizer = CountVectorizer(max_features=1500, min_df=9, max_df=0.8, stop_words=stw)\n",
    "X = vectorizer.fit_transform(documents).toarray()\n",
    "def printPos():\n",
    "    print(\"██████╗░░█████╗░░██████╗██╗████████╗██╗██╗░░░██╗███████╗\\n\"+\n",
    "          \"██╔══██╗██╔══██╗██╔════╝██║╚══██╔══╝██║██║░░░██║██╔════╝\\n\"+\n",
    "          \"██████╔╝██║░░██║╚█████╗░██║░░░██║░░░██║╚██╗░██╔╝█████╗░░\\n\"+\n",
    "          \"██╔═══╝░██║░░██║░╚═══██╗██║░░░██║░░░██║░╚████╔╝░██╔══╝░░\\n\"+\n",
    "          \"██║░░░░░╚█████╔╝██████╔╝██║░░░██║░░░██║░░╚██╔╝░░███████╗\\n\"+\n",
    "          \"╚═╝░░░░░░╚════╝░╚═════╝░╚═╝░░░╚═╝░░░╚═╝░░░╚═╝░░░╚══════╝\")\n",
    "def printNeg():\n",
    "    print(\"███╗░░██╗███████╗░██████╗░░█████╗░████████╗██╗██╗░░░██╗███████╗\\n\"+\n",
    "          \"████╗░██║██╔════╝██╔════╝░██╔══██╗╚══██╔══╝██║██║░░░██║██╔════╝\\n\"+\n",
    "          \"██╔██╗██║█████╗░░██║░░██╗░███████║░░░██║░░░██║╚██╗░██╔╝█████╗░░\\n\"+\n",
    "          \"██║╚████║██╔══╝░░██║░░╚██╗██╔══██║░░░██║░░░██║░╚████╔╝░██╔══╝░░\\n\"+\n",
    "          \"██║░╚███║███████╗╚██████╔╝██║░░██║░░░██║░░░██║░░╚██╔╝░░███████╗\\n\"+\n",
    "          \"╚═╝░░╚══╝╚══════╝░╚═════╝░╚═╝░░╚═╝░░░╚═╝░░░╚═╝░░░╚═╝░░░╚══════╝\")       \n"
   ]
  },
  {
   "cell_type": "code",
   "execution_count": 10,
   "metadata": {},
   "outputs": [
    {
     "output_type": "stream",
     "name": "stdout",
     "text": [
      "Your Input : klkjok\nYour result\n\n███╗░░██╗███████╗░██████╗░░█████╗░████████╗██╗██╗░░░██╗███████╗\n████╗░██║██╔════╝██╔════╝░██╔══██╗╚══██╔══╝██║██║░░░██║██╔════╝\n██╔██╗██║█████╗░░██║░░██╗░███████║░░░██║░░░██║╚██╗░██╔╝█████╗░░\n██║╚████║██╔══╝░░██║░░╚██╗██╔══██║░░░██║░░░██║░╚████╔╝░██╔══╝░░\n██║░╚███║███████╗╚██████╔╝██║░░██║░░░██║░░░██║░░╚██╔╝░░███████╗\n╚═╝░░╚══╝╚══════╝░╚═════╝░╚═╝░░╚═╝░░░╚═╝░░░╚═╝░░░╚═╝░░░╚══════╝\n"
     ]
    }
   ],
   "source": [
    "#Get input and predict the input\n",
    "inputt = input(\"Enter your text\")\n",
    "print(\"Your Input :\",inputt)\n",
    "res = model.predict(vectorizer.transform([inputt]).toarray())\n",
    "print(\"Your result\\n\")\n",
    "if(res[0] == 'POSITIVE'):\n",
    "    printPos()\n",
    "else:\n",
    "    printNeg()"
   ]
  },
  {
   "cell_type": "code",
   "execution_count": null,
   "metadata": {},
   "outputs": [],
   "source": []
  }
 ]
}