{
 "metadata": {
  "language_info": {
   "codemirror_mode": {
    "name": "ipython",
    "version": 3
   },
   "file_extension": ".py",
   "mimetype": "text/x-python",
   "name": "python",
   "nbconvert_exporter": "python",
   "pygments_lexer": "ipython3",
   "version": "3.8.5"
  },
  "orig_nbformat": 2,
  "kernelspec": {
   "name": "python385jvsc74a57bd00d7a72164fcd029cb22c0f92254d47c1b7a75054e629f435593758c10a506c44",
   "display_name": "Python 3.8.5 64-bit (conda)"
  },
  "metadata": {
   "interpreter": {
    "hash": "0231d0c3b3a3a69b43f4d24340a7b64d9eaf6af589807fb42de1dce5a184bae9"
   }
  }
 },
 "nbformat": 4,
 "nbformat_minor": 2,
 "cells": [
  {
   "cell_type": "code",
   "execution_count": 7,
   "metadata": {},
   "outputs": [
    {
     "output_type": "stream",
     "name": "stderr",
     "text": [
      "[nltk_data] Downloading package stopwords to\n[nltk_data]     C:\\Users\\2020\\AppData\\Roaming\\nltk_data...\n[nltk_data]   Package stopwords is already up-to-date!\n"
     ]
    }
   ],
   "source": [
    "from sklearn.model_selection import train_test_split\n",
    "from sklearn.metrics import accuracy_score\n",
    "from sklearn.feature_extraction.text import CountVectorizer\n",
    "from xgboost import XGBClassifier\n",
    "import pandas as pd\n",
    "import nltk\n",
    "from nltk.corpus import stopwords\n",
    "import re\n",
    "from sklearn.metrics import classification_report, confusion_matrix,accuracy_score\n",
    "import pickle\n",
    "nltk.download('stopwords')\n",
    "pkl_filename = \"theModel.pkl\" # name for saving and loading model\n",
    "data = pd.read_csv('tweet.csv')\n",
    "X, y= data['Tweet'], data['class_label']"
   ]
  },
  {
   "cell_type": "code",
   "execution_count": 8,
   "metadata": {},
   "outputs": [],
   "source": [
    "#text preprocessing\n",
    "documents = []\n",
    "from nltk.stem import WordNetLemmatizer\n",
    "stemmer = WordNetLemmatizer()\n",
    "for sen in range(0, len(X)):\n",
    "    document = re.sub(r'\\W', ' ', str(X[sen]))\n",
    "    document = re.sub(r'\\s+[a-zA-Z]\\s+', ' ', document)\n",
    "    document = re.sub(r'\\^[a-zA-Z]\\s+', ' ', document) \n",
    "    document = re.sub(r'\\s+', ' ', document, flags=re.I)\n",
    "    document = re.sub(r'^b\\s+', '', document)\n",
    "    document = document.lower()\n",
    "    # Lemmatization\n",
    "    document = document.split()\n",
    "    document = [stemmer.lemmatize(word) for word in document]\n",
    "    document = ' '.join(document)\n",
    "    \n",
    "    documents.append(document)"
   ]
  },
  {
   "cell_type": "code",
   "execution_count": 9,
   "metadata": {},
   "outputs": [
    {
     "output_type": "execute_result",
     "data": {
      "text/plain": [
       "      Unnamed: 0            Id                      User  \\\n",
       "782          782  9.950000e+17                     E.A.D   \n",
       "1492        1492  1.390000e+18                    Persia   \n",
       "851          851  2.329996e+09                       علي   \n",
       "665          665  1.270000e+18              QueenVLion 👑   \n",
       "1083        1083  1.010000e+18  Breen Ouellette (he/him)   \n",
       "\n",
       "                                                  Tweet class_label  \n",
       "782   @pi_news  \\nIt’s tragic to see one of the most...    NEGATIVE  \n",
       "1492  coping with the three-week lockdown by watchin...    NEGATIVE  \n",
       "851   Be proud of how far you’ve come even if it’s n...    NEGATIVE  \n",
       "665   EST. 523,000+🇺🇸💀 #YolandaCoar #TeQuillaParker ...    NEGATIVE  \n",
       "1083  This implies what I know to be true:\\n\\nThere ...    NEGATIVE  "
      ],
      "text/html": "<div>\n<style scoped>\n    .dataframe tbody tr th:only-of-type {\n        vertical-align: middle;\n    }\n\n    .dataframe tbody tr th {\n        vertical-align: top;\n    }\n\n    .dataframe thead th {\n        text-align: right;\n    }\n</style>\n<table border=\"1\" class=\"dataframe\">\n  <thead>\n    <tr style=\"text-align: right;\">\n      <th></th>\n      <th>Unnamed: 0</th>\n      <th>Id</th>\n      <th>User</th>\n      <th>Tweet</th>\n      <th>class_label</th>\n    </tr>\n  </thead>\n  <tbody>\n    <tr>\n      <th>782</th>\n      <td>782</td>\n      <td>9.950000e+17</td>\n      <td>E.A.D</td>\n      <td>@pi_news  \\nIt’s tragic to see one of the most...</td>\n      <td>NEGATIVE</td>\n    </tr>\n    <tr>\n      <th>1492</th>\n      <td>1492</td>\n      <td>1.390000e+18</td>\n      <td>Persia</td>\n      <td>coping with the three-week lockdown by watchin...</td>\n      <td>NEGATIVE</td>\n    </tr>\n    <tr>\n      <th>851</th>\n      <td>851</td>\n      <td>2.329996e+09</td>\n      <td>علي</td>\n      <td>Be proud of how far you’ve come even if it’s n...</td>\n      <td>NEGATIVE</td>\n    </tr>\n    <tr>\n      <th>665</th>\n      <td>665</td>\n      <td>1.270000e+18</td>\n      <td>QueenVLion 👑</td>\n      <td>EST. 523,000+🇺🇸💀 #YolandaCoar #TeQuillaParker ...</td>\n      <td>NEGATIVE</td>\n    </tr>\n    <tr>\n      <th>1083</th>\n      <td>1083</td>\n      <td>1.010000e+18</td>\n      <td>Breen Ouellette (he/him)</td>\n      <td>This implies what I know to be true:\\n\\nThere ...</td>\n      <td>NEGATIVE</td>\n    </tr>\n  </tbody>\n</table>\n</div>"
     },
     "metadata": {},
     "execution_count": 9
    }
   ],
   "source": [
    "#Removeing stopword\n",
    "stw = stopwords.words('english')\n",
    "addi = (\"&amp\",\"arc\",'https','co','t','amp','s')\n",
    "stw.append(addi)\n",
    "#Do Count vectorizer\n",
    "from sklearn.feature_extraction.text import CountVectorizer\n",
    "vectorizer = CountVectorizer(max_features=1200, min_df=9, max_df=0.8, stop_words=stw)\n",
    "X = vectorizer.fit_transform(documents).toarray()\n",
    "y = data['class_label']\n",
    "X_train, X_test, y_train, y_test = train_test_split(X, y, test_size=0.20, random_state=0)\n",
    "data.sample(5)"
   ]
  },
  {
   "cell_type": "code",
   "execution_count": 81,
   "metadata": {},
   "outputs": [
    {
     "output_type": "stream",
     "name": "stdout",
     "text": [
      "[12:05:26] WARNING: C:/Users/Administrator/workspace/xgboost-win64_release_1.3.0/src/learner.cc:1061: Starting in XGBoost 1.3.0, the default evaluation metric used with the objective 'binary:logistic' was changed from 'error' to 'logloss'. Explicitly set eval_metric if you'd like to restore the old behavior.\n",
      "              precision    recall  f1-score   support\n",
      "\n",
      "    NEGATIVE       0.74      0.84      0.79       183\n",
      "    POSITIVE       0.69      0.55      0.61       117\n",
      "\n",
      "    accuracy                           0.73       300\n",
      "   macro avg       0.72      0.69      0.70       300\n",
      "weighted avg       0.72      0.73      0.72       300\n",
      "\n",
      "[[154  29]\n",
      " [ 53  64]]\n",
      "Accuracy: 72.67%\n"
     ]
    }
   ],
   "source": [
    "# XGBoost\n",
    "#model = XGBClassifier(eta=0.5,gamma=0.14,max_depth=7, random_state=42)\n",
    "model = XGBClassifier(eta=0.5,gamma=0.35,max_depth=7, random_state=42)\n",
    "model.fit(X_train, y_train)\n",
    "# make predictions for test data\n",
    "predictt = model.predict(X_test)\n",
    "print(classification_report(y_test ,predictt))\n",
    "print(confusion_matrix(y_test, predictt))\n",
    "accuracy = accuracy_score(y_test, predictt)\n",
    "print(\"Accuracy: %.2f%%\" % (accuracy * 100.0))"
   ]
  },
  {
   "cell_type": "code",
   "execution_count": 53,
   "metadata": {},
   "outputs": [
    {
     "output_type": "stream",
     "name": "stdout",
     "text": [
      "              precision    recall  f1-score   support\n\n    NEGATIVE       0.72      0.83      0.77       183\n    POSITIVE       0.65      0.50      0.56       117\n\n    accuracy                           0.70       300\n   macro avg       0.69      0.66      0.67       300\nweighted avg       0.69      0.70      0.69       300\n\nConfusion Matrix: \n [[152  31]\n [ 59  58]]\n\nAccuracy:  70.0\n"
     ]
    }
   ],
   "source": [
    "#Multinomial\n",
    "from sklearn.naive_bayes import MultinomialNB\n",
    "model = MultinomialNB(alpha=0.3)\n",
    "model.fit(X_train, y_train)\n",
    "pred = model.predict(X_test)\n",
    "print(classification_report(y_test ,pred ))\n",
    "print('Confusion Matrix: \\n', confusion_matrix(y_test,pred))\n",
    "print()\n",
    "print('Accuracy: ', accuracy_score(y_test,pred) * 100.0)"
   ]
  },
  {
   "cell_type": "code",
   "execution_count": 16,
   "metadata": {},
   "outputs": [
    {
     "output_type": "stream",
     "name": "stdout",
     "text": [
      "[[167  16]\n [ 62  55]]\n              precision    recall  f1-score   support\n\n    NEGATIVE       0.73      0.91      0.81       183\n    POSITIVE       0.77      0.47      0.59       117\n\n    accuracy                           0.74       300\n   macro avg       0.75      0.69      0.70       300\nweighted avg       0.75      0.74      0.72       300\n\nAccuracy:  0.74\n"
     ]
    }
   ],
   "source": [
    "#random forest\n",
    "from sklearn.ensemble import RandomForestClassifier\n",
    "#n_estimators=400, random_state=42,max_depth=70\n",
    "#model = RandomForestClassifier(n_estimators=400, random_state=42,max_depth=40,min_samples_split=5)\n",
    "model = RandomForestClassifier(n_estimators=400, random_state=42,max_depth=40,min_samples_split=7)\n",
    "model.fit(X_train, y_train) \n",
    "y_pred = model.predict(X_test)\n",
    "\n",
    "print(confusion_matrix(y_test,y_pred))\n",
    "print(classification_report(y_test,y_pred))\n",
    "print('Accuracy: ', accuracy_score(y_test,y_pred))"
   ]
  },
  {
   "cell_type": "code",
   "execution_count": 6,
   "metadata": {},
   "outputs": [],
   "source": [
    "#Save model\n",
    "with open(pkl_filename, 'wb') as file:\n",
    "    pickle.dump(model, file)"
   ]
  },
  {
   "cell_type": "code",
   "execution_count": 315,
   "metadata": {},
   "outputs": [],
   "source": [
    "#Load model\n",
    "with open(pkl_filename, 'rb') as file:\n",
    "    model = pickle.load(file)"
   ]
  },
  {
   "cell_type": "code",
   "execution_count": 27,
   "metadata": {},
   "outputs": [],
   "source": [
    "#Text processing for gettin input\n",
    "data = pd.read_csv('tweet.csv')\n",
    "X, y= data['Tweet'], data['class_label']\n",
    "documents = []\n",
    "from nltk.stem import WordNetLemmatizer\n",
    "stemmer = WordNetLemmatizer()\n",
    "for sen in range(0, len(X)):\n",
    "    document = re.sub(r'\\W', ' ', str(X[sen]))\n",
    "    document = re.sub(r'\\s+[a-zA-Z]\\s+', ' ', document)\n",
    "    document = re.sub(r'\\^[a-zA-Z]\\s+', ' ', document) \n",
    "    document = re.sub(r'\\s+', ' ', document, flags=re.I)\n",
    "    document = re.sub(r'^b\\s+', '', document)\n",
    "    document = document.lower()\n",
    "    document = document.split()\n",
    "    document = [stemmer.lemmatize(word) for word in document]\n",
    "    document = ' '.join(document)\n",
    "    documents.append(document)\n",
    "stw = stopwords.words('english')\n",
    "addi = (\"&amp\",\"arc\",'https','co','t','amp','s')\n",
    "stw.append(addi)\n",
    "vectorizer = CountVectorizer(max_features=1500, min_df=9, max_df=0.8, stop_words=stw)\n",
    "X = vectorizer.fit_transform(documents).toarray()\n",
    "def printPos():\n",
    "    print(\"██████╗░░█████╗░░██████╗██╗████████╗██╗██╗░░░██╗███████╗\\n\"+\n",
    "          \"██╔══██╗██╔══██╗██╔════╝██║╚══██╔══╝██║██║░░░██║██╔════╝\\n\"+\n",
    "          \"██████╔╝██║░░██║╚█████╗░██║░░░██║░░░██║╚██╗░██╔╝█████╗░░\\n\"+\n",
    "          \"██╔═══╝░██║░░██║░╚═══██╗██║░░░██║░░░██║░╚████╔╝░██╔══╝░░\\n\"+\n",
    "          \"██║░░░░░╚█████╔╝██████╔╝██║░░░██║░░░██║░░╚██╔╝░░███████╗\\n\"+\n",
    "          \"╚═╝░░░░░░╚════╝░╚═════╝░╚═╝░░░╚═╝░░░╚═╝░░░╚═╝░░░╚══════╝\")\n",
    "def printNeg():\n",
    "    print(\"███╗░░██╗███████╗░██████╗░░█████╗░████████╗██╗██╗░░░██╗███████╗\\n\"+\n",
    "          \"████╗░██║██╔════╝██╔════╝░██╔══██╗╚══██╔══╝██║██║░░░██║██╔════╝\\n\"+\n",
    "          \"██╔██╗██║█████╗░░██║░░██╗░███████║░░░██║░░░██║╚██╗░██╔╝█████╗░░\\n\"+\n",
    "          \"██║╚████║██╔══╝░░██║░░╚██╗██╔══██║░░░██║░░░██║░╚████╔╝░██╔══╝░░\\n\"+\n",
    "          \"██║░╚███║███████╗╚██████╔╝██║░░██║░░░██║░░░██║░░╚██╔╝░░███████╗\\n\"+\n",
    "          \"╚═╝░░╚══╝╚══════╝░╚═════╝░╚═╝░░╚═╝░░░╚═╝░░░╚═╝░░░╚═╝░░░╚══════╝\")       \n",
    "##############\n",
    "#############\n",
    "###########\n",
    "#########  "
   ]
  },
  {
   "cell_type": "code",
   "execution_count": 29,
   "metadata": {},
   "outputs": [
    {
     "output_type": "stream",
     "name": "stdout",
     "text": [
      "Your Input : aaaaaaaaaaaaaaaaaaaaaaaaaaaaaa\nYour result\n\n███╗░░██╗███████╗░██████╗░░█████╗░████████╗██╗██╗░░░██╗███████╗\n████╗░██║██╔════╝██╔════╝░██╔══██╗╚══██╔══╝██║██║░░░██║██╔════╝\n██╔██╗██║█████╗░░██║░░██╗░███████║░░░██║░░░██║╚██╗░██╔╝█████╗░░\n██║╚████║██╔══╝░░██║░░╚██╗██╔══██║░░░██║░░░██║░╚████╔╝░██╔══╝░░\n██║░╚███║███████╗╚██████╔╝██║░░██║░░░██║░░░██║░░╚██╔╝░░███████╗\n╚═╝░░╚══╝╚══════╝░╚═════╝░╚═╝░░╚═╝░░░╚═╝░░░╚═╝░░░╚═╝░░░╚══════╝\n"
     ]
    }
   ],
   "source": [
    "#Get input and predict the input\n",
    "inputt = input(\"Enter your text\")\n",
    "print(\"Your Input :\",inputt)\n",
    "res = model.predict(vectorizer.transform([inputt]).toarray())\n",
    "print(\"Your result\\n\")\n",
    "if(res[0] == 'POSITIVE'):\n",
    "    printPos()\n",
    "else:\n",
    "    printNeg()"
   ]
  },
  {
   "cell_type": "code",
   "execution_count": null,
   "metadata": {},
   "outputs": [],
   "source": []
  }
 ]
}