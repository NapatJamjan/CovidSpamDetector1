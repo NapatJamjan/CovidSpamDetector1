{
 "metadata": {
  "language_info": {
   "codemirror_mode": {
    "name": "ipython",
    "version": 3
   },
   "file_extension": ".py",
   "mimetype": "text/x-python",
   "name": "python",
   "nbconvert_exporter": "python",
   "pygments_lexer": "ipython3",
   "version": "3.8.5"
  },
  "orig_nbformat": 2,
  "kernelspec": {
   "name": "python385jvsc74a57bd00d7a72164fcd029cb22c0f92254d47c1b7a75054e629f435593758c10a506c44",
   "display_name": "Python 3.8.5 64-bit (conda)"
  },
  "metadata": {
   "interpreter": {
    "hash": "0231d0c3b3a3a69b43f4d24340a7b64d9eaf6af589807fb42de1dce5a184bae9"
   }
  }
 },
 "nbformat": 4,
 "nbformat_minor": 2,
 "cells": [
  {
   "cell_type": "code",
   "execution_count": 1,
   "metadata": {},
   "outputs": [
    {
     "output_type": "stream",
     "name": "stderr",
     "text": [
      "[nltk_data] Downloading package stopwords to\n[nltk_data]     C:\\Users\\2020\\AppData\\Roaming\\nltk_data...\n[nltk_data]   Package stopwords is already up-to-date!\n"
     ]
    }
   ],
   "source": [
    "from sklearn.model_selection import train_test_split\n",
    "from sklearn.metrics import accuracy_score\n",
    "from sklearn.feature_extraction.text import CountVectorizer\n",
    "from xgboost import XGBClassifier\n",
    "import pandas as pd\n",
    "import nltk\n",
    "from nltk.corpus import stopwords\n",
    "import re\n",
    "from sklearn.metrics import classification_report, confusion_matrix,accuracy_score\n",
    "import pickle\n",
    "nltk.download('stopwords')\n",
    "pkl_filename = \"theModel.pkl\" # name for saving and loading model\n",
    "data = pd.read_csv('tweet.csv')\n",
    "X, y= data['Tweet'], data['class_label']"
   ]
  },
  {
   "cell_type": "code",
   "execution_count": 2,
   "metadata": {},
   "outputs": [],
   "source": [
    "#text preprocessing\n",
    "documents = []\n",
    "from nltk.stem import WordNetLemmatizer\n",
    "stemmer = WordNetLemmatizer()\n",
    "for sen in range(0, len(X)):\n",
    "    document = re.sub(r'\\W', ' ', str(X[sen]))\n",
    "    document = re.sub(r'\\s+[a-zA-Z]\\s+', ' ', document)\n",
    "    document = re.sub(r'\\^[a-zA-Z]\\s+', ' ', document) \n",
    "    document = re.sub(r'\\s+', ' ', document, flags=re.I)\n",
    "    document = re.sub(r'^b\\s+', '', document)\n",
    "    document = document.lower()\n",
    "    # Lemmatization\n",
    "    document = document.split()\n",
    "    document = [stemmer.lemmatize(word) for word in document]\n",
    "    document = ' '.join(document)\n",
    "    \n",
    "    documents.append(document)"
   ]
  },
  {
   "cell_type": "code",
   "execution_count": 3,
   "metadata": {},
   "outputs": [
    {
     "output_type": "execute_result",
     "data": {
      "text/plain": [
       "      Unnamed: 0            Id                                User  \\\n",
       "1412        1412  1.340000e+18                 Ravi Shankar Prasad   \n",
       "606          606  5.572044e+08                    SAVE OUR COUNTRY   \n",
       "54            54  7.400000e+17  Southern Regional Health Authority   \n",
       "76            76  7.289820e+07     KCBS Radio - The Traffic Leader   \n",
       "1184        1184  3.071162e+09           Hong Kong Free Press HKFP   \n",
       "\n",
       "                                                  Tweet class_label  \n",
       "1412  @SonuSood # शिक्षा के लिए स्कूल।\\nताकि जागरूकत...    NEGATIVE  \n",
       "606   IS #Trudeau #COVID19 #CovidHotels #QuarentineH...    NEGATIVE  \n",
       "54    Please see the #COVID19 update for Thursday, F...    POSITIVE  \n",
       "76    .@KCBSRadio Coming up:\\n-#COVID19 relief bill ...    POSITIVE  \n",
       "1184  At Tuesday's weekly press conference, Chief Ex...    POSITIVE  "
      ],
      "text/html": "<div>\n<style scoped>\n    .dataframe tbody tr th:only-of-type {\n        vertical-align: middle;\n    }\n\n    .dataframe tbody tr th {\n        vertical-align: top;\n    }\n\n    .dataframe thead th {\n        text-align: right;\n    }\n</style>\n<table border=\"1\" class=\"dataframe\">\n  <thead>\n    <tr style=\"text-align: right;\">\n      <th></th>\n      <th>Unnamed: 0</th>\n      <th>Id</th>\n      <th>User</th>\n      <th>Tweet</th>\n      <th>class_label</th>\n    </tr>\n  </thead>\n  <tbody>\n    <tr>\n      <th>1412</th>\n      <td>1412</td>\n      <td>1.340000e+18</td>\n      <td>Ravi Shankar Prasad</td>\n      <td>@SonuSood # शिक्षा के लिए स्कूल।\\nताकि जागरूकत...</td>\n      <td>NEGATIVE</td>\n    </tr>\n    <tr>\n      <th>606</th>\n      <td>606</td>\n      <td>5.572044e+08</td>\n      <td>SAVE OUR COUNTRY</td>\n      <td>IS #Trudeau #COVID19 #CovidHotels #QuarentineH...</td>\n      <td>NEGATIVE</td>\n    </tr>\n    <tr>\n      <th>54</th>\n      <td>54</td>\n      <td>7.400000e+17</td>\n      <td>Southern Regional Health Authority</td>\n      <td>Please see the #COVID19 update for Thursday, F...</td>\n      <td>POSITIVE</td>\n    </tr>\n    <tr>\n      <th>76</th>\n      <td>76</td>\n      <td>7.289820e+07</td>\n      <td>KCBS Radio - The Traffic Leader</td>\n      <td>.@KCBSRadio Coming up:\\n-#COVID19 relief bill ...</td>\n      <td>POSITIVE</td>\n    </tr>\n    <tr>\n      <th>1184</th>\n      <td>1184</td>\n      <td>3.071162e+09</td>\n      <td>Hong Kong Free Press HKFP</td>\n      <td>At Tuesday's weekly press conference, Chief Ex...</td>\n      <td>POSITIVE</td>\n    </tr>\n  </tbody>\n</table>\n</div>"
     },
     "metadata": {},
     "execution_count": 3
    }
   ],
   "source": [
    "#Removeing stopword\n",
    "stw = stopwords.words('english')\n",
    "addi = (\"&amp\",\"arc\",'https','co','t','amp','s')\n",
    "stw.append(addi)\n",
    "#Do Count vectorizer\n",
    "from sklearn.feature_extraction.text import CountVectorizer\n",
    "vectorizer = CountVectorizer(max_features=1200, min_df=9, max_df=0.8, stop_words=stw)\n",
    "X = vectorizer.fit_transform(documents).toarray()\n",
    "y = data['class_label']\n",
    "X_train, X_test, y_train, y_test = train_test_split(X, y, test_size=0.20, random_state=0)\n",
    "data.sample(5)"
   ]
  },
  {
   "cell_type": "code",
   "execution_count": 4,
   "metadata": {},
   "outputs": [
    {
     "output_type": "stream",
     "name": "stderr",
     "text": [
      "C:\\Users\\2020\\anaconda3\\lib\\site-packages\\xgboost\\sklearn.py:888: UserWarning: The use of label encoder in XGBClassifier is deprecated and will be removed in a future release. To remove this warning, do the following: 1) Pass option use_label_encoder=False when constructing XGBClassifier object; and 2) Encode your labels (y) as integers starting with 0, i.e. 0, 1, 2, ..., [num_class - 1].\n",
      "  warnings.warn(label_encoder_deprecation_msg, UserWarning)\n",
      "[16:23:23] WARNING: C:/Users/Administrator/workspace/xgboost-win64_release_1.3.0/src/learner.cc:1061: Starting in XGBoost 1.3.0, the default evaluation metric used with the objective 'binary:logistic' was changed from 'error' to 'logloss'. Explicitly set eval_metric if you'd like to restore the old behavior.\n",
      "              precision    recall  f1-score   support\n",
      "\n",
      "    NEGATIVE       0.74      0.84      0.79       183\n",
      "    POSITIVE       0.69      0.55      0.61       117\n",
      "\n",
      "    accuracy                           0.73       300\n",
      "   macro avg       0.72      0.69      0.70       300\n",
      "weighted avg       0.72      0.73      0.72       300\n",
      "\n",
      "[[154  29]\n",
      " [ 53  64]]\n",
      "Accuracy: 72.67%\n"
     ]
    }
   ],
   "source": [
    "# XGBoost model\n",
    "#model = XGBClassifier(eta=0.5,gamma=0.14,max_depth=7, random_state=42)\n",
    "model = XGBClassifier(eta=0.5,gamma=0.35,max_depth=7, random_state=42)\n",
    "model.fit(X_train, y_train)\n",
    "# make predictions for test data\n",
    "predictt = model.predict(X_test)\n",
    "print(classification_report(y_test ,predictt))\n",
    "print(confusion_matrix(y_test, predictt))\n",
    "accuracy = accuracy_score(y_test, predictt)\n",
    "print(\"Accuracy: %.2f%%\" % (accuracy * 100.0))"
   ]
  },
  {
   "cell_type": "code",
   "execution_count": 5,
   "metadata": {},
   "outputs": [
    {
     "output_type": "stream",
     "name": "stdout",
     "text": [
      "              precision    recall  f1-score   support\n\n    NEGATIVE       0.72      0.83      0.77       183\n    POSITIVE       0.65      0.50      0.56       117\n\n    accuracy                           0.70       300\n   macro avg       0.69      0.66      0.67       300\nweighted avg       0.69      0.70      0.69       300\n\nConfusion Matrix: \n [[152  31]\n [ 59  58]]\n\nAccuracy:  70.0\n"
     ]
    }
   ],
   "source": [
    "#Multinomial\n",
    "from sklearn.naive_bayes import MultinomialNB\n",
    "model = MultinomialNB(alpha=0.3)\n",
    "model.fit(X_train, y_train)\n",
    "pred = model.predict(X_test)\n",
    "print(classification_report(y_test ,pred ))\n",
    "print('Confusion Matrix: \\n', confusion_matrix(y_test,pred))\n",
    "print()\n",
    "print('Accuracy: ', accuracy_score(y_test,pred) * 100.0)"
   ]
  },
  {
   "cell_type": "code",
   "execution_count": 6,
   "metadata": {},
   "outputs": [
    {
     "output_type": "stream",
     "name": "stdout",
     "text": [
      "[[167  16]\n [ 62  55]]\n              precision    recall  f1-score   support\n\n    NEGATIVE       0.73      0.91      0.81       183\n    POSITIVE       0.77      0.47      0.59       117\n\n    accuracy                           0.74       300\n   macro avg       0.75      0.69      0.70       300\nweighted avg       0.75      0.74      0.72       300\n\nAccuracy:  0.74\n"
     ]
    }
   ],
   "source": [
    "#random forest\n",
    "from sklearn.ensemble import RandomForestClassifier\n",
    "#n_estimators=400, random_state=42,max_depth=70\n",
    "#model = RandomForestClassifier(n_estimators=400, random_state=42,max_depth=40,min_samples_split=5)\n",
    "model = RandomForestClassifier(n_estimators=400, random_state=42,max_depth=40,min_samples_split=7)\n",
    "model.fit(X_train, y_train) \n",
    "y_pred = model.predict(X_test)\n",
    "\n",
    "print(confusion_matrix(y_test,y_pred))\n",
    "print(classification_report(y_test,y_pred))\n",
    "print('Accuracy: ', accuracy_score(y_test,y_pred))"
   ]
  },
  {
   "cell_type": "code",
   "execution_count": 6,
   "metadata": {},
   "outputs": [],
   "source": [
    "#Save model\n",
    "with open(pkl_filename, 'wb') as file:\n",
    "    pickle.dump(model, file)"
   ]
  },
  {
   "cell_type": "code",
   "execution_count": 8,
   "metadata": {},
   "outputs": [],
   "source": [
    "#Load model\n",
    "with open(pkl_filename, 'rb') as file:\n",
    "    model = pickle.load(file)"
   ]
  },
  {
   "cell_type": "code",
   "execution_count": 9,
   "metadata": {},
   "outputs": [],
   "source": [
    "#Text processing for gettin input\n",
    "data = pd.read_csv('tweet.csv')\n",
    "X, y= data['Tweet'], data['class_label']\n",
    "documents = []\n",
    "from nltk.stem import WordNetLemmatizer\n",
    "stemmer = WordNetLemmatizer()\n",
    "for sen in range(0, len(X)):\n",
    "    document = re.sub(r'\\W', ' ', str(X[sen]))\n",
    "    document = re.sub(r'\\s+[a-zA-Z]\\s+', ' ', document)\n",
    "    document = re.sub(r'\\^[a-zA-Z]\\s+', ' ', document) \n",
    "    document = re.sub(r'\\s+', ' ', document, flags=re.I)\n",
    "    document = re.sub(r'^b\\s+', '', document)\n",
    "    document = document.lower()\n",
    "    document = document.split()\n",
    "    document = [stemmer.lemmatize(word) for word in document]\n",
    "    document = ' '.join(document)\n",
    "    documents.append(document)\n",
    "stw = stopwords.words('english')\n",
    "addi = (\"&amp\",\"arc\",'https','co','t','amp','s')\n",
    "stw.append(addi)\n",
    "vectorizer = CountVectorizer(max_features=1500, min_df=9, max_df=0.8, stop_words=stw)\n",
    "X = vectorizer.fit_transform(documents).toarray()\n",
    "def printPos():\n",
    "    print(\"██████╗░░█████╗░░██████╗██╗████████╗██╗██╗░░░██╗███████╗\\n\"+\n",
    "          \"██╔══██╗██╔══██╗██╔════╝██║╚══██╔══╝██║██║░░░██║██╔════╝\\n\"+\n",
    "          \"██████╔╝██║░░██║╚█████╗░██║░░░██║░░░██║╚██╗░██╔╝█████╗░░\\n\"+\n",
    "          \"██╔═══╝░██║░░██║░╚═══██╗██║░░░██║░░░██║░╚████╔╝░██╔══╝░░\\n\"+\n",
    "          \"██║░░░░░╚█████╔╝██████╔╝██║░░░██║░░░██║░░╚██╔╝░░███████╗\\n\"+\n",
    "          \"╚═╝░░░░░░╚════╝░╚═════╝░╚═╝░░░╚═╝░░░╚═╝░░░╚═╝░░░╚══════╝\")\n",
    "def printNeg():\n",
    "    print(\"███╗░░██╗███████╗░██████╗░░█████╗░████████╗██╗██╗░░░██╗███████╗\\n\"+\n",
    "          \"████╗░██║██╔════╝██╔════╝░██╔══██╗╚══██╔══╝██║██║░░░██║██╔════╝\\n\"+\n",
    "          \"██╔██╗██║█████╗░░██║░░██╗░███████║░░░██║░░░██║╚██╗░██╔╝█████╗░░\\n\"+\n",
    "          \"██║╚████║██╔══╝░░██║░░╚██╗██╔══██║░░░██║░░░██║░╚████╔╝░██╔══╝░░\\n\"+\n",
    "          \"██║░╚███║███████╗╚██████╔╝██║░░██║░░░██║░░░██║░░╚██╔╝░░███████╗\\n\"+\n",
    "          \"╚═╝░░╚══╝╚══════╝░╚═════╝░╚═╝░░╚═╝░░░╚═╝░░░╚═╝░░░╚═╝░░░╚══════╝\")       \n"
   ]
  },
  {
   "cell_type": "code",
   "execution_count": 10,
   "metadata": {},
   "outputs": [
    {
     "output_type": "stream",
     "name": "stdout",
     "text": [
      "Your Input : klkjok\nYour result\n\n███╗░░██╗███████╗░██████╗░░█████╗░████████╗██╗██╗░░░██╗███████╗\n████╗░██║██╔════╝██╔════╝░██╔══██╗╚══██╔══╝██║██║░░░██║██╔════╝\n██╔██╗██║█████╗░░██║░░██╗░███████║░░░██║░░░██║╚██╗░██╔╝█████╗░░\n██║╚████║██╔══╝░░██║░░╚██╗██╔══██║░░░██║░░░██║░╚████╔╝░██╔══╝░░\n██║░╚███║███████╗╚██████╔╝██║░░██║░░░██║░░░██║░░╚██╔╝░░███████╗\n╚═╝░░╚══╝╚══════╝░╚═════╝░╚═╝░░╚═╝░░░╚═╝░░░╚═╝░░░╚═╝░░░╚══════╝\n"
     ]
    }
   ],
   "source": [
    "#Get input and predict the input\n",
    "inputt = input(\"Enter your text\")\n",
    "print(\"Your Input :\",inputt)\n",
    "res = model.predict(vectorizer.transform([inputt]).toarray())\n",
    "print(\"Your result\\n\")\n",
    "if(res[0] == 'POSITIVE'):\n",
    "    printPos()\n",
    "else:\n",
    "    printNeg()"
   ]
  },
  {
   "cell_type": "code",
   "execution_count": null,
   "metadata": {},
   "outputs": [],
   "source": []
  }
 ]
}